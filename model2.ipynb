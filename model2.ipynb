{
 "cells": [
  {
   "cell_type": "code",
   "execution_count": 11,
   "metadata": {},
   "outputs": [
    {
     "name": "stdout",
     "output_type": "stream",
     "text": [
      "Recommended place: Route 3\n"
     ]
    }
   ],
   "source": [
    "from sklearn.ensemble import RandomForestRegressor\n",
    "from sklearn.preprocessing import LabelEncoder\n",
    "from sklearn.model_selection import train_test_split\n",
    "import numpy as np\n",
    "\n",
    "# Define the input features (X) and target variable (y)\n",
    "X = [\n",
    "    ['Hotel A', 100, 'Luxury', 'Sunny', 200, 'Route 1'],\n",
    "    ['Hotel B', 80, 'Mid-range', 'Rainy', 150, 'Route 2'],\n",
    "    ['Hotel C', 120, 'Luxury', 'Cloudy', 250, 'Route 3'],\n",
    "    ['Hotel D', 70, 'Budget', 'Sunny', 100, 'Route 4'],\n",
    "    ['Hotel E', 90, 'Mid-range', 'Cloudy', 180, 'Route 5']\n",
    "]\n",
    "\n",
    "y = ['Place A', 'Place B', 'Place C', 'Place D', 'Place E']\n",
    "\n",
    "# Encode the input features\n",
    "label_encoders = []\n",
    "X_encoded = []\n",
    "\n",
    "for i in range(len(X[0])):\n",
    "    label_encoder = LabelEncoder()\n",
    "    label_encoders.append(label_encoder)\n",
    "    feature = [x[i] for x in X]\n",
    "    feature_encoded = label_encoder.fit_transform(feature)\n",
    "    X_encoded.append(feature_encoded)\n",
    "\n",
    "# Transpose X_encoded for model training\n",
    "X_encoded = np.array(X_encoded).reshape(-1, len(X[0]))\n",
    "\n",
    "\n",
    "# Encode the target variable\n",
    "label_encoder = LabelEncoder()\n",
    "y_encoded = label_encoder.fit_transform(y)\n",
    "\n",
    "# Split the data into training and testing sets\n",
    "X_train, X_test, y_train, y_test = train_test_split(\n",
    "    X_encoded, y_encoded, test_size=0.2, random_state=42)\n",
    "\n",
    "# Train the Random Forest Regression model\n",
    "rf_regression = RandomForestRegressor(n_estimators=100, random_state=42)\n",
    "rf_regression.fit(X_train, y_train)\n",
    "\n",
    "# User search function\n",
    "\n",
    "\n",
    "def make_recommendation(search_query):\n",
    "    query_encoded = []\n",
    "\n",
    "    # Encode the search query\n",
    "    for i in range(len(search_query)):\n",
    "        try:\n",
    "            label_encoder = label_encoders[i]\n",
    "            query_encoded.append(\n",
    "                label_encoders[i].transform([search_query[i]])[0])\n",
    "\n",
    "        except KeyError:\n",
    "            return \"Invalid search query\"\n",
    "\n",
    "    # Predict the recommendation\n",
    "    recommendation_encoded = rf_regression.predict([query_encoded])\n",
    "    recommendation = label_encoder.inverse_transform(\n",
    "        [int(recommendation_encoded)])\n",
    "\n",
    "    return recommendation[0]\n",
    "\n",
    "\n",
    "# Example usage\n",
    "search_query = ['Hotel C', 120, 'Luxury', 'Sunny', 200, 'Route 1']\n",
    "recommendation = make_recommendation(search_query)\n",
    "print('Recommended place:', recommendation)\n"
   ]
  }
 ],
 "metadata": {
  "kernelspec": {
   "display_name": "base",
   "language": "python",
   "name": "python3"
  },
  "language_info": {
   "codemirror_mode": {
    "name": "ipython",
    "version": 3
   },
   "file_extension": ".py",
   "mimetype": "text/x-python",
   "name": "python",
   "nbconvert_exporter": "python",
   "pygments_lexer": "ipython3",
   "version": "3.9.7"
  },
  "orig_nbformat": 4
 },
 "nbformat": 4,
 "nbformat_minor": 2
}
